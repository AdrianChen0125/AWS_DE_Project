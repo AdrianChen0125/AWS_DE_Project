{
 "cells": [
  {
   "cell_type": "code",
   "execution_count": 8,
   "id": "0113c224",
   "metadata": {},
   "outputs": [
    {
     "name": "stdout",
     "output_type": "stream",
     "text": [
      "✅ ./processed_orders\\customers_dataset.csv uploaded successfully to s3://dbt-demo-raw/customers_dataset.csv\n",
      "✅ ./processed_orders\\geolocation_dataset.csv uploaded successfully to s3://dbt-demo-raw/geolocation_dataset.csv\n",
      "✅ ./processed_orders\\products_dataset.csv uploaded successfully to s3://dbt-demo-raw/products_dataset.csv\n",
      "✅ ./processed_orders\\sellers_dataset.csv uploaded successfully to s3://dbt-demo-raw/sellers_dataset.csv\n",
      "✅ ./processed_orders\\t_category_name_translation.csv uploaded successfully to s3://dbt-demo-raw/t_category_name_translation.csv\n",
      "✅ ./processed_orders\\orders_dataset\\orders_dataset_2016.csv uploaded successfully to s3://dbt-demo-raw/orders_dataset/orders_dataset_2016.csv\n",
      "✅ ./processed_orders\\orders_dataset\\orders_dataset_2017.csv uploaded successfully to s3://dbt-demo-raw/orders_dataset/orders_dataset_2017.csv\n",
      "✅ ./processed_orders\\orders_dataset\\orders_dataset_2018.csv uploaded successfully to s3://dbt-demo-raw/orders_dataset/orders_dataset_2018.csv\n",
      "✅ ./processed_orders\\order_items_dataset\\order_items_dataset_2016.csv uploaded successfully to s3://dbt-demo-raw/order_items_dataset/order_items_dataset_2016.csv\n",
      "✅ ./processed_orders\\order_items_dataset\\order_items_dataset_2017.csv uploaded successfully to s3://dbt-demo-raw/order_items_dataset/order_items_dataset_2017.csv\n",
      "✅ ./processed_orders\\order_items_dataset\\order_items_dataset_2018.csv uploaded successfully to s3://dbt-demo-raw/order_items_dataset/order_items_dataset_2018.csv\n",
      "✅ ./processed_orders\\order_payments_dataset\\order_payments_dataset_2016.csv uploaded successfully to s3://dbt-demo-raw/order_payments_dataset/order_payments_dataset_2016.csv\n",
      "✅ ./processed_orders\\order_payments_dataset\\order_payments_dataset_2017.csv uploaded successfully to s3://dbt-demo-raw/order_payments_dataset/order_payments_dataset_2017.csv\n",
      "✅ ./processed_orders\\order_payments_dataset\\order_payments_dataset_2018.csv uploaded successfully to s3://dbt-demo-raw/order_payments_dataset/order_payments_dataset_2018.csv\n",
      "✅ ./processed_orders\\order_reviews_dataset\\order_reviews_dataset_2016.csv uploaded successfully to s3://dbt-demo-raw/order_reviews_dataset/order_reviews_dataset_2016.csv\n",
      "✅ ./processed_orders\\order_reviews_dataset\\order_reviews_dataset_2017.csv uploaded successfully to s3://dbt-demo-raw/order_reviews_dataset/order_reviews_dataset_2017.csv\n",
      "✅ ./processed_orders\\order_reviews_dataset\\order_reviews_dataset_2018.csv uploaded successfully to s3://dbt-demo-raw/order_reviews_dataset/order_reviews_dataset_2018.csv\n"
     ]
    }
   ],
   "source": [
    "import boto3\n",
    "import os\n",
    "import pandas as pd\n",
    "\n",
    "# Load AWS credentials from CSV file\n",
    "df = pd.read_csv('de001_accessKeys.csv', encoding='utf-8')\n",
    "aws_access_key_id = df['Access key ID'][0]\n",
    "aws_secret_access_key = df['Secret access key'][0]\n",
    "\n",
    "# AWS S3 Configuration\n",
    "bucket_name = 'dbt-demo-raw'\n",
    "AWS_REGION = 'us-east-1'\n",
    "\n",
    "# Define local directory to upload\n",
    "directory_path = './processed_orders'\n",
    "\n",
    "# Create S3 client\n",
    "s3 = boto3.client(\n",
    "    's3',\n",
    "    region_name=AWS_REGION,\n",
    "    aws_access_key_id=aws_access_key_id,\n",
    "    aws_secret_access_key=aws_secret_access_key\n",
    ")\n",
    "\n",
    "# Iterate over files and upload to S3\n",
    "for root, dirs, files in os.walk(directory_path):\n",
    "    for file_name in files:\n",
    "        # Construct the full local file path\n",
    "        local_file_path = os.path.join(root, file_name)\n",
    "\n",
    "        # Maintain folder structure in S3\n",
    "        s3_key = os.path.relpath(local_file_path, directory_path).replace(\"\\\\\", \"/\")\n",
    "\n",
    "        try:\n",
    "            # Upload file to S3\n",
    "            s3.upload_file(local_file_path, bucket_name, s3_key)\n",
    "            print(f'{local_file_path} uploaded successfully to s3://{bucket_name}/{s3_key}')\n",
    "        except Exception as e:\n",
    "            print(f'Error uploading {local_file_path}: {e}')\n"
   ]
  }
 ],
 "metadata": {
  "kernelspec": {
   "display_name": "Python 3 (ipykernel)",
   "language": "python",
   "name": "python3"
  },
  "language_info": {
   "codemirror_mode": {
    "name": "ipython",
    "version": 3
   },
   "file_extension": ".py",
   "mimetype": "text/x-python",
   "name": "python",
   "nbconvert_exporter": "python",
   "pygments_lexer": "ipython3",
   "version": "3.11.4"
  }
 },
 "nbformat": 4,
 "nbformat_minor": 5
}
