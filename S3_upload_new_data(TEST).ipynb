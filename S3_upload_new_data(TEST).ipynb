{
 "cells": [
  {
   "cell_type": "code",
   "execution_count": 1,
   "id": "0113c224",
   "metadata": {},
   "outputs": [
    {
     "name": "stderr",
     "output_type": "stream",
     "text": [
      "C:\\Users\\VEGA\\anaconda3\\Lib\\site-packages\\pandas\\core\\arrays\\masked.py:60: UserWarning: Pandas requires version '1.3.6' or newer of 'bottleneck' (version '1.3.5' currently installed).\n",
      "  from pandas.core import (\n"
     ]
    },
    {
     "name": "stdout",
     "output_type": "stream",
     "text": [
      "./Test_data\\orders_dataset\\orders_dataset_2018.csv uploaded successfully to s3://dbt-demo-raw/orders_dataset/orders_dataset_2018.csv\n",
      "./Test_data\\order_items_dataset\\order_items_dataset_2018.csv uploaded successfully to s3://dbt-demo-raw/order_items_dataset/order_items_dataset_2018.csv\n",
      "./Test_data\\order_payments_dataset\\order_payments_dataset_2018.csv uploaded successfully to s3://dbt-demo-raw/order_payments_dataset/order_payments_dataset_2018.csv\n",
      "./Test_data\\order_reviews_dataset\\order_reviews_dataset_2018.csv uploaded successfully to s3://dbt-demo-raw/order_reviews_dataset/order_reviews_dataset_2018.csv\n"
     ]
    }
   ],
   "source": [
    "import boto3\n",
    "import os\n",
    "import pandas as pd\n",
    "\n",
    "# Load AWS credentials from CSV file\n",
    "df = pd.read_csv('de001_accessKeys.csv', encoding='utf-8')\n",
    "aws_access_key_id = df['Access key ID'][0]\n",
    "aws_secret_access_key = df['Secret access key'][0]\n",
    "\n",
    "# AWS S3 Configuration\n",
    "bucket_name = 'dbt-demo-raw'\n",
    "AWS_REGION = 'us-east-1'\n",
    "\n",
    "# Define local directory to upload\n",
    "directory_path = './Test_data'\n",
    "\n",
    "# Create S3 client\n",
    "s3 = boto3.client(\n",
    "    's3',\n",
    "    region_name=AWS_REGION,\n",
    "    aws_access_key_id=aws_access_key_id,\n",
    "    aws_secret_access_key=aws_secret_access_key\n",
    ")\n",
    "\n",
    "# Iterate over files and upload to S3\n",
    "for root, dirs, files in os.walk(directory_path):\n",
    "    for file_name in files:\n",
    "        # Construct the full local file path\n",
    "        local_file_path = os.path.join(root, file_name)\n",
    "\n",
    "        # Maintain folder structure in S3\n",
    "        s3_key = os.path.relpath(local_file_path, directory_path).replace(\"\\\\\", \"/\")\n",
    "\n",
    "        try:\n",
    "            # Upload file to S3\n",
    "            s3.upload_file(local_file_path, bucket_name, s3_key)\n",
    "            print(f'{local_file_path} uploaded successfully to s3://{bucket_name}/{s3_key}')\n",
    "        except Exception as e:\n",
    "            print(f'Error uploading {local_file_path}: {e}')\n"
   ]
  }
 ],
 "metadata": {
  "kernelspec": {
   "display_name": "Python 3 (ipykernel)",
   "language": "python",
   "name": "python3"
  },
  "language_info": {
   "codemirror_mode": {
    "name": "ipython",
    "version": 3
   },
   "file_extension": ".py",
   "mimetype": "text/x-python",
   "name": "python",
   "nbconvert_exporter": "python",
   "pygments_lexer": "ipython3",
   "version": "3.11.4"
  }
 },
 "nbformat": 4,
 "nbformat_minor": 5
}
